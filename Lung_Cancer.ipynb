{
  "cells": [
    {
      "cell_type": "markdown",
      "metadata": {
        "colab_type": "text",
        "id": "view-in-github"
      },
      "source": [
        "<a href=\"https://colab.research.google.com/github/Ahsanbeg/Multiple-Disease-Prediction/blob/main/Lung_Cancer.ipynb\" target=\"_parent\"><img src=\"https://colab.research.google.com/assets/colab-badge.svg\" alt=\"Open In Colab\"/></a>"
      ]
    },
    {
      "cell_type": "code",
      "execution_count": null,
      "metadata": {
        "id": "NxH9ZsksFUCp"
      },
      "outputs": [],
      "source": [
        "import pandas as pd\n",
        "import numpy as np\n",
        "import matplotlib.pyplot as plt\n",
        "from sklearn.linear_model import LogisticRegression\n",
        "from sklearn.model_selection import train_test_split\n",
        "from sklearn.metrics import mean_squared_error,r2_score,mean_absolute_error\n",
        "from sklearn import preprocessing\n",
        "from sklearn.metrics import accuracy_score"
      ]
    },
    {
      "cell_type": "code",
      "execution_count": null,
      "metadata": {
        "id": "6yYAPLZRHFKP"
      },
      "outputs": [],
      "source": [
        "# loading the csv data to a Pandas DataFrame\n",
        "data = pd.read_csv('/content/survey lung cancer.csv')"
      ]
    },
    {
      "cell_type": "code",
      "execution_count": null,
      "metadata": {
        "colab": {
          "base_uri": "https://localhost:8080/",
          "height": 288
        },
        "id": "14aYtGcUHvnY",
        "outputId": "78c0d318-130d-4fc7-8b30-0f3545fcf441"
      },
      "outputs": [],
      "source": [
        "# print first 5 rows of the dataset\n",
        "data.head()"
      ]
    },
    {
      "cell_type": "code",
      "execution_count": null,
      "metadata": {
        "colab": {
          "base_uri": "https://localhost:8080/",
          "height": 288
        },
        "id": "R0VmIDfQH0E-",
        "outputId": "39b73b54-9682-4d5a-cc59-1791ffc126ef"
      },
      "outputs": [],
      "source": [
        "# print last 5 rows of the dataset\n",
        "data.tail()"
      ]
    },
    {
      "cell_type": "code",
      "execution_count": null,
      "metadata": {
        "colab": {
          "base_uri": "https://localhost:8080/"
        },
        "id": "0mjGrPeOH3tw",
        "outputId": "f6f4ecc2-b18c-4d89-9211-2ff41830b944"
      },
      "outputs": [],
      "source": [
        "# number of rows and columns in the dataset\n",
        "data.shape"
      ]
    },
    {
      "cell_type": "code",
      "execution_count": null,
      "metadata": {
        "colab": {
          "base_uri": "https://localhost:8080/"
        },
        "id": "AoYKbayQIAQq",
        "outputId": "b0e406fb-8b26-43c6-d8f1-1a7c1079c197"
      },
      "outputs": [],
      "source": [
        "# getting some info about the data\n",
        "data.info()"
      ]
    },
    {
      "cell_type": "code",
      "execution_count": null,
      "metadata": {
        "colab": {
          "base_uri": "https://localhost:8080/",
          "height": 382
        },
        "id": "Su-YnFmcIJgh",
        "outputId": "9f05f5cb-fa58-45ab-8111-311eff62c462"
      },
      "outputs": [],
      "source": [
        "data.describe()\n"
      ]
    },
    {
      "cell_type": "code",
      "execution_count": null,
      "metadata": {
        "colab": {
          "base_uri": "https://localhost:8080/"
        },
        "id": "02QcjVvFIMib",
        "outputId": "4e9c6738-5bf5-4098-918e-455ebca5c1c6"
      },
      "outputs": [],
      "source": [
        "data.isnull().sum()"
      ]
    },
    {
      "cell_type": "markdown",
      "metadata": {
        "id": "pPyrbGWkJKAl"
      },
      "source": [
        "## **Label Encoder**\n"
      ]
    },
    {
      "cell_type": "code",
      "execution_count": null,
      "metadata": {
        "colab": {
          "base_uri": "https://localhost:8080/"
        },
        "id": "UkcRVppBIZxM",
        "outputId": "dc751c89-06ea-49d5-e7ec-925b517a14fe"
      },
      "outputs": [],
      "source": [
        "label_encoder = preprocessing.LabelEncoder()\n",
        "\n",
        "data['GENDER']= label_encoder.fit_transform(data['GENDER'])\n",
        "  \n",
        "data['GENDER'].unique()"
      ]
    },
    {
      "cell_type": "code",
      "execution_count": null,
      "metadata": {
        "colab": {
          "base_uri": "https://localhost:8080/"
        },
        "id": "J4gYbPhnJJn1",
        "outputId": "45336c98-a6e8-4478-d6bf-c762bbd8e484"
      },
      "outputs": [],
      "source": [
        "data['LUNG_CANCER']= label_encoder.fit_transform(data['LUNG_CANCER'])\n",
        "  \n",
        "data['LUNG_CANCER'].unique()"
      ]
    },
    {
      "cell_type": "code",
      "execution_count": null,
      "metadata": {
        "colab": {
          "base_uri": "https://localhost:8080/",
          "height": 444
        },
        "id": "W5PNhthMJaHF",
        "outputId": "b8bca54f-ac75-49c6-dc94-85826ee0233b"
      },
      "outputs": [],
      "source": [
        "# Here Male : Female = 1:0 & Cancer_positive : Cancer_negative = 1:0 \n",
        "data.head(10)"
      ]
    },
    {
      "cell_type": "code",
      "execution_count": null,
      "metadata": {
        "colab": {
          "base_uri": "https://localhost:8080/",
          "height": 288
        },
        "id": "eGvnxcfjz7xd",
        "outputId": "a6bf90d5-daa5-43fb-97f4-281e7f6ce136"
      },
      "outputs": [],
      "source": [
        "data.tail()"
      ]
    },
    {
      "cell_type": "code",
      "execution_count": null,
      "metadata": {
        "colab": {
          "base_uri": "https://localhost:8080/"
        },
        "id": "7cFJP8S3JcYa",
        "outputId": "064b1746-72b2-45eb-fd09-eb74589465ba"
      },
      "outputs": [],
      "source": [
        "# checking the distribution of Target Variable\n",
        "data['LUNG_CANCER'].value_counts()"
      ]
    },
    {
      "cell_type": "markdown",
      "metadata": {
        "id": "p7o1QfuEKQXw"
      },
      "source": [
        "1 --> Defective Lung\n",
        "\n",
        "0 --> Healthy Lung"
      ]
    },
    {
      "cell_type": "code",
      "execution_count": null,
      "metadata": {
        "id": "Uy_hBuxRFN_-"
      },
      "outputs": [],
      "source": [
        "data.to_csv('prepocessed_lungs_data.csv')"
      ]
    },
    {
      "cell_type": "markdown",
      "metadata": {
        "id": "0W6piaVLZAHT"
      },
      "source": [
        "## **Splitting the Features and Target**"
      ]
    },
    {
      "cell_type": "code",
      "execution_count": null,
      "metadata": {
        "id": "4qowiIi6KCFY"
      },
      "outputs": [],
      "source": [
        "X = data.drop(columns='LUNG_CANCER', axis=1)\n",
        "Y = data['LUNG_CANCER']"
      ]
    },
    {
      "cell_type": "code",
      "execution_count": null,
      "metadata": {
        "colab": {
          "base_uri": "https://localhost:8080/"
        },
        "id": "wKiDChPuY_LW",
        "outputId": "4b0e8d4f-1293-445e-bde1-62fdbe043e4c"
      },
      "outputs": [],
      "source": [
        "print(X)"
      ]
    },
    {
      "cell_type": "code",
      "execution_count": null,
      "metadata": {
        "colab": {
          "base_uri": "https://localhost:8080/"
        },
        "id": "6gJTGMWQZY_Z",
        "outputId": "428fe797-6e06-4a96-dd62-08d4b74e581e"
      },
      "outputs": [],
      "source": [
        "print(Y)"
      ]
    },
    {
      "cell_type": "code",
      "execution_count": null,
      "metadata": {
        "id": "jbCJt5kGZcwe"
      },
      "outputs": [],
      "source": [
        "X_train, X_test, Y_train, Y_test = train_test_split(X, Y, test_size=0.2, stratify=Y, random_state=2)"
      ]
    },
    {
      "cell_type": "code",
      "execution_count": null,
      "metadata": {
        "colab": {
          "base_uri": "https://localhost:8080/"
        },
        "id": "EEcW1P74Ze-w",
        "outputId": "6c78a838-1e68-4924-cc15-67ebf569343b"
      },
      "outputs": [],
      "source": [
        "print(X.shape, X_train.shape, X_test.shape)"
      ]
    },
    {
      "cell_type": "markdown",
      "metadata": {
        "id": "c3IRtQGCZot7"
      },
      "source": [
        "## **Model Training**"
      ]
    },
    {
      "cell_type": "markdown",
      "metadata": {
        "id": "k9ipbBzVZrxZ"
      },
      "source": [
        "### **Linear_Regression**"
      ]
    },
    {
      "cell_type": "code",
      "execution_count": null,
      "metadata": {
        "id": "Qk2XqxgoZhAd"
      },
      "outputs": [],
      "source": [
        "model = LogisticRegression()"
      ]
    },
    {
      "cell_type": "code",
      "execution_count": null,
      "metadata": {
        "colab": {
          "base_uri": "https://localhost:8080/"
        },
        "id": "UEMK8HeubZ1M",
        "outputId": "072f46cc-8400-484b-ede4-3623ff25f8a0"
      },
      "outputs": [],
      "source": [
        "model.fit(X_train.values, Y_train.values)"
      ]
    },
    {
      "cell_type": "markdown",
      "metadata": {
        "id": "QqhV2utubiUl"
      },
      "source": [
        "## **Model Evaluation**"
      ]
    },
    {
      "cell_type": "code",
      "execution_count": null,
      "metadata": {
        "colab": {
          "base_uri": "https://localhost:8080/"
        },
        "id": "HYOsA0nPcY0B",
        "outputId": "aaa65e0e-3b3e-4b54-8c8f-faaca652ed33"
      },
      "outputs": [],
      "source": [
        "# accuracy on training data\n",
        "X_train_prediction = model.predict(X_train)\n",
        "training_data_accuracy = accuracy_score(X_train_prediction, Y_train)"
      ]
    },
    {
      "cell_type": "code",
      "execution_count": null,
      "metadata": {
        "colab": {
          "base_uri": "https://localhost:8080/"
        },
        "id": "F3HnJC78chGJ",
        "outputId": "f6aad360-662c-40e4-8855-3dcc4ed643e4"
      },
      "outputs": [],
      "source": [
        "print('Accuracy on Training data : ', training_data_accuracy)"
      ]
    },
    {
      "cell_type": "code",
      "execution_count": null,
      "metadata": {
        "colab": {
          "base_uri": "https://localhost:8080/"
        },
        "id": "rL5pGdrrgDa4",
        "outputId": "763be1bf-483f-45d3-f214-e85ba97e6b6f"
      },
      "outputs": [],
      "source": [
        "# accuracy on test data\n",
        "X_test_prediction = model.predict(X_test)\n",
        "test_data_accuracy = accuracy_score(X_test_prediction, Y_test)"
      ]
    },
    {
      "cell_type": "code",
      "execution_count": null,
      "metadata": {
        "colab": {
          "base_uri": "https://localhost:8080/"
        },
        "id": "nw3H5I-BgGtC",
        "outputId": "fa662817-5315-42b0-98ed-ceae5186b17d"
      },
      "outputs": [],
      "source": [
        "print('Accuracy on Test data : ', test_data_accuracy)"
      ]
    },
    {
      "cell_type": "code",
      "execution_count": null,
      "metadata": {
        "colab": {
          "base_uri": "https://localhost:8080/"
        },
        "id": "ZNOaP7usgJCF",
        "outputId": "a27377c9-5530-466f-a2b8-1b6e13b38687"
      },
      "outputs": [],
      "source": [
        "input_data = (0,61,1,1,1,1,2,2,1,1,1,1,2,1,1)\n",
        "\n",
        "# change the input data to a numpy array\n",
        "input_data_as_numpy_array= np.asarray(input_data)\n",
        "\n",
        "# reshape the numpy array as we are predicting for only on instance\n",
        "input_data_reshaped = input_data_as_numpy_array.reshape(1,-1)\n",
        "\n",
        "prediction = model.predict(input_data_reshaped)\n",
        "print(prediction)\n",
        "\n",
        "if (prediction[0]== 0):\n",
        "  print('The Person does not have a Lung Cancer')\n",
        "else:\n",
        "  print('The Person has Lung Cancer')"
      ]
    },
    {
      "cell_type": "markdown",
      "metadata": {
        "id": "0kI2c6hucgFq"
      },
      "source": [
        "## **Saving the trained model**\n",
        "\n",
        "\n",
        "\n"
      ]
    },
    {
      "cell_type": "code",
      "execution_count": null,
      "metadata": {
        "id": "8e8xnreIgbif"
      },
      "outputs": [],
      "source": [
        "import pickle"
      ]
    },
    {
      "cell_type": "code",
      "execution_count": null,
      "metadata": {
        "id": "qdMqVUtYcjiJ"
      },
      "outputs": [],
      "source": [
        "filename = 'lungs_disease_model.sav'\n",
        "pickle.dump(model, open(filename, 'wb'))"
      ]
    },
    {
      "cell_type": "code",
      "execution_count": null,
      "metadata": {
        "id": "QYWzo0_-cnJT"
      },
      "outputs": [],
      "source": [
        "# loading the saved model\n",
        "loaded_model = pickle.load(open('lungs_disease_model.sav', 'rb'))"
      ]
    },
    {
      "cell_type": "code",
      "execution_count": null,
      "metadata": {
        "colab": {
          "base_uri": "https://localhost:8080/"
        },
        "id": "RG32RFwdcnRp",
        "outputId": "cac1c308-6b29-44f6-952a-4c4c67af49ee"
      },
      "outputs": [],
      "source": [
        "for column in X_train.columns:\n",
        "  print(column)"
      ]
    }
  ],
  "metadata": {
    "colab": {
      "authorship_tag": "ABX9TyPK3PdsB+qISkxNYr+fUnuu",
      "include_colab_link": true,
      "provenance": []
    },
    "kernelspec": {
      "display_name": "Python 3",
      "name": "python3"
    },
    "language_info": {
      "codemirror_mode": {
        "name": "ipython",
        "version": 3
      },
      "file_extension": ".py",
      "mimetype": "text/x-python",
      "name": "python",
      "nbconvert_exporter": "python",
      "pygments_lexer": "ipython3",
      "version": "3.12.9"
    }
  },
  "nbformat": 4,
  "nbformat_minor": 0
}
