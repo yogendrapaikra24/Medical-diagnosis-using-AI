{
 "cells": [
  {
   "cell_type": "markdown",
   "metadata": {},
   "source": [
    "# Install Dependencies"
   ]
  },
  {
   "cell_type": "markdown",
   "metadata": {},
   "source": [
    "pip install pandas scikit-learn\n"
   ]
  },
  {
   "cell_type": "markdown",
   "metadata": {},
   "source": [
    "# Code for Breast Cancer "
   ]
  },
  {
   "cell_type": "code",
   "execution_count": 3,
   "metadata": {},
   "outputs": [
    {
     "name": "stdout",
     "output_type": "stream",
     "text": [
      "Model accuracy: 97.37%\n",
      "Model training complete and saved.\n"
     ]
    }
   ],
   "source": [
    "import pandas as pd\n",
    "from sklearn.model_selection import train_test_split\n",
    "from sklearn.preprocessing import StandardScaler\n",
    "from sklearn.linear_model import LogisticRegression\n",
    "from sklearn.metrics import accuracy_score\n",
    "from sklearn.datasets import load_breast_cancer\n",
    "import pickle\n",
    "\n",
    "# 1. Load and prepare the dataset\n",
    "def load_data():\n",
    "    # Load Breast Cancer dataset from sklearn\n",
    "    data = load_breast_cancer()\n",
    "    df = pd.DataFrame(data.data, columns=data.feature_names)\n",
    "    df['target'] = data.target\n",
    "    return df\n",
    "\n",
    "# 2. Preprocess the data\n",
    "def preprocess_data(df):\n",
    "    # Split data into features and target\n",
    "    X = df.drop('target', axis=1)\n",
    "    y = df['target']\n",
    "    \n",
    "    # Split into training and test sets\n",
    "    X_train, X_test, y_train, y_test = train_test_split(X, y, test_size=0.2, random_state=42)\n",
    "    \n",
    "    # Standardize the data\n",
    "    scaler = StandardScaler()\n",
    "    X_train = scaler.fit_transform(X_train)\n",
    "    X_test = scaler.transform(X_test)\n",
    "    \n",
    "    return X_train, X_test, y_train, y_test, scaler\n",
    "\n",
    "# 3. Train a machine learning model\n",
    "def train_model(X_train, y_train):\n",
    "    model = LogisticRegression(max_iter=10000)\n",
    "    model.fit(X_train, y_train)\n",
    "    return model\n",
    "\n",
    "# 4. Evaluate the model\n",
    "def evaluate_model(model, X_test, y_test):\n",
    "    y_pred = model.predict(X_test)\n",
    "    accuracy = accuracy_score(y_test, y_pred)\n",
    "    print(f'Model accuracy: {accuracy * 100:.2f}%')\n",
    "\n",
    "# 5. Save the model and scaler\n",
    "def save_model(model, scaler):\n",
    "    with open('breast_cancer_model.pkl', 'wb') as model_file:\n",
    "        pickle.dump(model, model_file)\n",
    "    with open('scaler.pkl', 'wb') as scaler_file:\n",
    "        pickle.dump(scaler, scaler_file)\n",
    "\n",
    "# 6. Load the saved model and scaler for prediction\n",
    "def load_saved_model():\n",
    "    with open('breast_cancer_model.pkl', 'rb') as model_file:\n",
    "        model = pickle.load(model_file)\n",
    "    with open('scaler.pkl', 'rb') as scaler_file:\n",
    "        scaler = pickle.load(scaler_file)\n",
    "    return model, scaler\n",
    "\n",
    "# 7. Make predictions\n",
    "def predict(model, scaler, features):\n",
    "    features = scaler.transform([features])  # standardize the input\n",
    "    prediction = model.predict(features)\n",
    "    return 'Malignant' if prediction == 0 else 'Benign'\n",
    "\n",
    "# Main function to run the model training\n",
    "if __name__ == \"__main__\":\n",
    "    # Load data\n",
    "    df = load_data()\n",
    "    \n",
    "    # Preprocess data\n",
    "    X_train, X_test, y_train, y_test, scaler = preprocess_data(df)\n",
    "    \n",
    "    # Train the model\n",
    "    model = train_model(X_train, y_train)\n",
    "    \n",
    "    # Evaluate the model\n",
    "    evaluate_model(model, X_test, y_test)\n",
    "    \n",
    "    # Save the model for later use\n",
    "    save_model(model, scaler)\n",
    "    \n",
    "    print(\"Model training complete and saved.\")\n"
   ]
  },
  {
   "cell_type": "markdown",
   "metadata": {},
   "source": [
    "# Code for Data Preprocessing (using Breast Cancer Wisconsin Dataset)"
   ]
  },
  {
   "cell_type": "code",
   "execution_count": 1,
   "metadata": {},
   "outputs": [
    {
     "name": "stdout",
     "output_type": "stream",
     "text": [
      "[[-1.44075296 -0.43531947 -1.36208497 -1.1391179   0.78057331  0.71892128\n",
      "   2.82313451 -0.11914956  1.09266219  2.45817261 -0.26380039 -0.01605246\n",
      "  -0.47041357 -0.47476088  0.83836493  3.25102691  8.43893667  3.39198733\n",
      "   2.62116574  2.06120787 -1.23286131 -0.47630949 -1.24792009 -0.97396758\n",
      "   0.72289445  1.18673232  4.67282796  0.9320124   2.09724217  1.88645014]\n",
      " [ 1.97409619  1.73302577  2.09167167  1.85197292  1.319843    3.42627493\n",
      "   2.01311199  2.66503199  2.1270036   1.55839569  0.80531919 -0.81268678\n",
      "   0.75195659  0.87716951 -0.89605315  1.18122247  0.18362761  0.60059598\n",
      "  -0.31771686  0.52963649  2.17331385  1.3112795   2.08161691  2.1374055\n",
      "   0.76192793  3.26560084  1.92862053  2.6989469   1.89116053  2.49783848]\n",
      " [-1.39998202 -1.24962228 -1.34520926 -1.10978518 -1.33264483 -0.30735463\n",
      "  -0.36555756 -0.69650228  1.93033305  0.95437877  0.02752055  1.96305996\n",
      "  -0.12095781 -0.35077918  0.57276579  0.7394992   0.32065553  0.58946222\n",
      "   2.61504052  0.71892779 -1.29528358 -1.04081128 -1.24522047 -0.99971493\n",
      "  -1.43869328 -0.54856427 -0.64491059 -0.97023893  0.59760192  0.0578942 ]\n",
      " [-0.98179678  1.41622208 -0.98258746 -0.86694414  0.05938999 -0.59678772\n",
      "  -0.82020317 -0.84511471  0.31326409  0.07404147 -0.53850473  0.53647286\n",
      "  -0.65795    -0.49659014  0.0654747  -0.82240418 -0.68556537 -0.89848456\n",
      "   0.12329928 -0.43154667 -0.8291973   1.59353039 -0.87357215 -0.74294685\n",
      "   0.79662437 -0.7293916  -0.77494969 -0.80948314  0.79892783 -0.1344968 ]\n",
      " [-1.11769991 -1.0102595  -1.12500192 -0.96594206  1.26951116 -0.43900185\n",
      "  -0.98334145 -0.93059974  3.39443604  0.95021314  0.40227808  0.4403815\n",
      "   0.21931447 -0.11553185  0.17191085 -0.78797021 -0.78350919 -0.58864808\n",
      "   2.60401511  0.76598123 -1.08512861 -1.3346163  -1.11713828 -0.89654919\n",
      "  -0.17487574 -0.99507862 -1.20914641 -1.35458167  1.03354385 -0.20573196]]\n"
     ]
    }
   ],
   "source": [
    "import pandas as pd\n",
    "from sklearn.preprocessing import StandardScaler\n",
    "from sklearn.model_selection import train_test_split\n",
    "from sklearn.datasets import load_breast_cancer\n",
    "\n",
    "# Load the dataset\n",
    "data = load_breast_cancer()\n",
    "df = pd.DataFrame(data.data, columns=data.feature_names)\n",
    "df['target'] = data.target  # Add target column (Malignant=0, Benign=1)\n",
    "\n",
    "# Preprocessing: Splitting the data\n",
    "X = df.drop('target', axis=1)  # Features\n",
    "y = df['target']  # Target labels\n",
    "\n",
    "# Train-Test Split\n",
    "X_train, X_test, y_train, y_test = train_test_split(X, y, test_size=0.2, random_state=42)\n",
    "\n",
    "# Standardize the data (important for many machine learning algorithms)\n",
    "scaler = StandardScaler()\n",
    "X_train = scaler.fit_transform(X_train)\n",
    "X_test = scaler.transform(X_test)\n",
    "\n",
    "print(X_train[:5])  # Show first 5 rows of standardized features\n"
   ]
  },
  {
   "cell_type": "code",
   "execution_count": 5,
   "metadata": {},
   "outputs": [
    {
     "name": "stdout",
     "output_type": "stream",
     "text": [
      "          Class precision recall  f1-score  support\n",
      "0             0      0.97   0.97      0.97       42\n",
      "1             1      0.97   0.97      0.97       68\n",
      "2      accuracy                       0.97      110\n",
      "3     macro avg      0.97   0.97      0.97      110\n",
      "4  weighted avg      0.97   0.97      0.97      110\n"
     ]
    }
   ],
   "source": [
    "import pandas as pd\n",
    "\n",
    "# Define the dataset based on the image\n",
    "data = {\n",
    "    \"Class\": [0, 1, \"accuracy\", \"macro avg\", \"weighted avg\"],\n",
    "    \"precision\": [0.97, 0.97, \"\", 0.97, 0.97],\n",
    "    \"recall\": [0.97, 0.97, \"\", 0.97, 0.97],\n",
    "    \"f1-score\": [0.97, 0.97, 0.97, 0.97, 0.97],\n",
    "    \"support\": [42, 68, 110, 110, 110]\n",
    "}\n",
    "\n",
    "# Create DataFrame\n",
    "df = pd.DataFrame(data)\n",
    "\n",
    "# Display the DataFrame\n",
    "print(df)\n"
   ]
  }
 ],
 "metadata": {
  "kernelspec": {
   "display_name": "Python 3",
   "language": "python",
   "name": "python3"
  },
  "language_info": {
   "codemirror_mode": {
    "name": "ipython",
    "version": 3
   },
   "file_extension": ".py",
   "mimetype": "text/x-python",
   "name": "python",
   "nbconvert_exporter": "python",
   "pygments_lexer": "ipython3",
   "version": "3.12.9"
  }
 },
 "nbformat": 4,
 "nbformat_minor": 2
}
